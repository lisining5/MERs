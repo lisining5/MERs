{
  "nbformat": 4,
  "nbformat_minor": 0,
  "metadata": {
    "colab": {
      "name": "ck_transfer1.ipynb",
      "provenance": [],
      "collapsed_sections": [],
      "toc_visible": true,
      "mount_file_id": "1yD_z_0FV8W43BThvf7wjKlI3ymqiMUGH",
      "authorship_tag": "ABX9TyN9AKJEZywaZxGmKQAK3OWP",
      "include_colab_link": true
    },
    "kernelspec": {
      "name": "python3",
      "display_name": "Python 3"
    },
    "accelerator": "GPU"
  },
  "cells": [
    {
      "cell_type": "markdown",
      "metadata": {
        "id": "view-in-github",
        "colab_type": "text"
      },
      "source": [
        "<a href=\"https://colab.research.google.com/github/lisining5/MERs/blob/master/ck_transfer1.ipynb\" target=\"_parent\"><img src=\"https://colab.research.google.com/assets/colab-badge.svg\" alt=\"Open In Colab\"/></a>"
      ]
    },
    {
      "cell_type": "code",
      "metadata": {
        "id": "-qS3SJXxRAau",
        "colab_type": "code",
        "colab": {
          "base_uri": "https://localhost:8080/",
          "height": 35
        },
        "outputId": "8bdcf69f-fee0-4d6b-e221-348186880185"
      },
      "source": [
        "%cd .."
      ],
      "execution_count": 3,
      "outputs": [
        {
          "output_type": "stream",
          "text": [
            "/content/drive/My Drive/ws\n"
          ],
          "name": "stdout"
        }
      ]
    },
    {
      "cell_type": "code",
      "metadata": {
        "id": "OtOrNY0ESMJx",
        "colab_type": "code",
        "colab": {
          "base_uri": "https://localhost:8080/",
          "height": 163
        },
        "outputId": "214f9e79-45d6-415b-8afb-ee0f68b0c082"
      },
      "source": [
        "try:\n",
        "  # %tensorflow_version only exists in Colab.\n",
        "  %tensorflow_version 2.x\n",
        "except Exception:\n",
        "  pass\n",
        "import itertools\n",
        "import os\n",
        "\n",
        "import matplotlib.pylab as plt\n",
        "import numpy as np\n",
        "\n",
        "import tensorflow as tf\n",
        "import tensorflow_hub as hub\n",
        "\n",
        "import pathlib\n",
        "\n",
        "print(\"TF version:\", tf.__version__)\n",
        "print(\"Hub version:\", hub.__version__)\n",
        "print(\"GPU is\", \"available\" if tf.test.is_gpu_available() else \"NOT AVAILABLE\")"
      ],
      "execution_count": 1,
      "outputs": [
        {
          "output_type": "stream",
          "text": [
            "TensorFlow 2.x selected.\n",
            "TF version: 2.1.0\n",
            "Hub version: 0.7.0\n",
            "WARNING:tensorflow:From <ipython-input-1-0b0da91e0a03>:19: is_gpu_available (from tensorflow.python.framework.test_util) is deprecated and will be removed in a future version.\n",
            "Instructions for updating:\n",
            "Use `tf.config.list_physical_devices('GPU')` instead.\n",
            "GPU is available\n"
          ],
          "name": "stdout"
        }
      ]
    },
    {
      "cell_type": "code",
      "metadata": {
        "id": "AHG2BxuZrfpp",
        "colab_type": "code",
        "colab": {}
      },
      "source": [
        "try:\n",
        "  # %tensorflow_version only exists in Colab.\n",
        "  %tensorflow_version 2.x\n",
        "except Exception:\n",
        "  pass\n",
        "import itertools\n",
        "import os\n",
        "\n",
        "import matplotlib.pylab as plt\n",
        "import numpy as np\n",
        "\n",
        "import tensorflow as tf\n",
        "import tensorflow_hub as hub\n",
        "\n",
        "import pathlib\n",
        "\n",
        "print(\"TF version:\", tf.__version__)\n",
        "print(\"Hub version:\", hub.__version__)\n",
        "print(\"GPU is\", \"available\" if tf.test.is_gpu_available() else \"NOT AVAILABLE\")"
      ],
      "execution_count": 0,
      "outputs": []
    },
    {
      "cell_type": "code",
      "metadata": {
        "id": "8Pr2jQzqroj-",
        "colab_type": "code",
        "colab": {
          "base_uri": "https://localhost:8080/",
          "height": 35
        },
        "outputId": "405a98bf-3d31-4fa9-8463-73feb0d65eba"
      },
      "source": [
        "module_selection = (\"inception_resnet_v2\", 299) #@param [\"(\\\"mobilenet_v2_100_224\\\", 224)\", \"(\\\"inception_v3\\\", 299)\"] {type:\"raw\", allow-input: true}\n",
        "handle_base, pixels = module_selection\n",
        "MODULE_HANDLE =\"https://tfhub.dev/google/imagenet/inception_resnet_v2/feature_vector/4\".format(handle_base)\n",
        "IMAGE_SIZE = (pixels, pixels)\n",
        "print(\"Using {} with input size {}\".format(MODULE_HANDLE, IMAGE_SIZE))\n",
        "\n",
        "BATCH_SIZE = 32 #@param {type:\"integer\"}"
      ],
      "execution_count": 2,
      "outputs": [
        {
          "output_type": "stream",
          "text": [
            "Using https://tfhub.dev/google/imagenet/inception_resnet_v2/feature_vector/4 with input size (299, 299)\n"
          ],
          "name": "stdout"
        }
      ]
    },
    {
      "cell_type": "code",
      "metadata": {
        "id": "eL6FvIUArv1j",
        "colab_type": "code",
        "colab": {
          "base_uri": "https://localhost:8080/",
          "height": 53
        },
        "outputId": "d2ca46b7-c805-4bab-d848-fe402a3b1b87"
      },
      "source": [
        "data_dir = \"/content/drive/My Drive/ws/CK_cut\"\n",
        "datagen_kwargs = dict(rescale=1./255, validation_split=.20)\n",
        "dataflow_kwargs = dict(target_size=IMAGE_SIZE, batch_size=BATCH_SIZE,\n",
        "                   interpolation=\"bilinear\")\n",
        "\n",
        "valid_datagen = tf.keras.preprocessing.image.ImageDataGenerator(\n",
        "    **datagen_kwargs)\n",
        "valid_generator = valid_datagen.flow_from_directory(\n",
        "    data_dir, subset=\"validation\", shuffle=False, **dataflow_kwargs)\n",
        "\n",
        "do_data_augmentation = False #@param {type:\"boolean\"}\n",
        "if do_data_augmentation:\n",
        "  train_datagen = tf.keras.preprocessing.image.ImageDataGenerator(\n",
        "      rotation_range=40,\n",
        "      horizontal_flip=True,\n",
        "      width_shift_range=0.2, height_shift_range=0.2,\n",
        "      shear_range=0.2, zoom_range=0.2,\n",
        "      **datagen_kwargs)\n",
        "else:\n",
        "  train_datagen = valid_datagen\n",
        "train_generator = train_datagen.flow_from_directory(\n",
        "    data_dir, subset=\"training\", shuffle=True, **dataflow_kwargs)"
      ],
      "execution_count": 3,
      "outputs": [
        {
          "output_type": "stream",
          "text": [
            "Found 179 images belonging to 6 classes.\n",
            "Found 731 images belonging to 6 classes.\n"
          ],
          "name": "stdout"
        }
      ]
    },
    {
      "cell_type": "code",
      "metadata": {
        "id": "WooJ99Pfsa-b",
        "colab_type": "code",
        "colab": {}
      },
      "source": [
        "do_fine_tuning = True #@param {type:\"boolean\"}"
      ],
      "execution_count": 0,
      "outputs": []
    },
    {
      "cell_type": "code",
      "metadata": {
        "id": "vwUT5IObshUV",
        "colab_type": "code",
        "colab": {
          "base_uri": "https://localhost:8080/",
          "height": 287
        },
        "outputId": "a8febf1a-c096-4636-f726-e04437c19edb"
      },
      "source": [
        "print(\"Building model with\", MODULE_HANDLE)\n",
        "model = tf.keras.Sequential([\n",
        "    hub.KerasLayer(MODULE_HANDLE, trainable=do_fine_tuning),\n",
        "    tf.keras.layers.Dropout(rate=0.2),\n",
        "    tf.keras.layers.Dense(train_generator.num_classes, activation='softmax',\n",
        "                          kernel_regularizer=tf.keras.regularizers.l2(0.0001))\n",
        "])\n",
        "model.build((None,)+IMAGE_SIZE+(3,))\n",
        "model.summary()"
      ],
      "execution_count": 5,
      "outputs": [
        {
          "output_type": "stream",
          "text": [
            "Building model with https://tfhub.dev/google/imagenet/inception_resnet_v2/feature_vector/4\n",
            "Model: \"sequential\"\n",
            "_________________________________________________________________\n",
            "Layer (type)                 Output Shape              Param #   \n",
            "=================================================================\n",
            "keras_layer (KerasLayer)     multiple                  54336736  \n",
            "_________________________________________________________________\n",
            "dropout (Dropout)            multiple                  0         \n",
            "_________________________________________________________________\n",
            "dense (Dense)                multiple                  9222      \n",
            "=================================================================\n",
            "Total params: 54,345,958\n",
            "Trainable params: 54,285,414\n",
            "Non-trainable params: 60,544\n",
            "_________________________________________________________________\n"
          ],
          "name": "stdout"
        }
      ]
    },
    {
      "cell_type": "code",
      "metadata": {
        "id": "wCjk1vw0s9Sa",
        "colab_type": "code",
        "colab": {}
      },
      "source": [
        "model.compile(\n",
        "  optimizer=tf.keras.optimizers.SGD(lr=0.0005, momentum=0.9), \n",
        "  loss=tf.keras.losses.CategoricalCrossentropy(label_smoothing=0.1),\n",
        "  metrics=['accuracy'])\n"
      ],
      "execution_count": 0,
      "outputs": []
    },
    {
      "cell_type": "code",
      "metadata": {
        "id": "eoWLauastFwC",
        "colab_type": "code",
        "colab": {
          "base_uri": "https://localhost:8080/",
          "height": 1000
        },
        "outputId": "fa4f2178-ba72-4ae7-faa2-064346cff4f3"
      },
      "source": [
        "steps_per_epoch = train_generator.samples // train_generator.batch_size\n",
        "validation_steps = valid_generator.samples // valid_generator.batch_size\n",
        "hist = model.fit_generator(\n",
        "    train_generator,\n",
        "    epochs=50, steps_per_epoch=steps_per_epoch,\n",
        "    validation_data=valid_generator,\n",
        "    validation_steps=validation_steps).history"
      ],
      "execution_count": 8,
      "outputs": [
        {
          "output_type": "stream",
          "text": [
            "WARNING:tensorflow:sample_weight modes were coerced from\n",
            "  ...\n",
            "    to  \n",
            "  ['...']\n"
          ],
          "name": "stdout"
        },
        {
          "output_type": "stream",
          "text": [
            "WARNING:tensorflow:sample_weight modes were coerced from\n",
            "  ...\n",
            "    to  \n",
            "  ['...']\n"
          ],
          "name": "stderr"
        },
        {
          "output_type": "stream",
          "text": [
            "WARNING:tensorflow:sample_weight modes were coerced from\n",
            "  ...\n",
            "    to  \n",
            "  ['...']\n"
          ],
          "name": "stdout"
        },
        {
          "output_type": "stream",
          "text": [
            "WARNING:tensorflow:sample_weight modes were coerced from\n",
            "  ...\n",
            "    to  \n",
            "  ['...']\n"
          ],
          "name": "stderr"
        },
        {
          "output_type": "stream",
          "text": [
            "Train for 22 steps, validate for 5 steps\n",
            "Epoch 1/50\n",
            "22/22 [==============================] - 14s 656ms/step - loss: 0.9640 - accuracy: 1.0000 - val_loss: 1.4510 - val_accuracy: 0.7750\n",
            "Epoch 2/50\n",
            "22/22 [==============================] - 14s 654ms/step - loss: 0.9605 - accuracy: 1.0000 - val_loss: 1.4306 - val_accuracy: 0.7812\n",
            "Epoch 3/50\n",
            "22/22 [==============================] - 14s 654ms/step - loss: 0.9596 - accuracy: 1.0000 - val_loss: 1.3904 - val_accuracy: 0.7875\n",
            "Epoch 4/50\n",
            "22/22 [==============================] - 14s 652ms/step - loss: 0.9583 - accuracy: 1.0000 - val_loss: 1.3522 - val_accuracy: 0.8062\n",
            "Epoch 5/50\n",
            "22/22 [==============================] - 14s 653ms/step - loss: 0.9577 - accuracy: 1.0000 - val_loss: 1.3192 - val_accuracy: 0.8500\n",
            "Epoch 6/50\n",
            "22/22 [==============================] - 14s 654ms/step - loss: 0.9575 - accuracy: 1.0000 - val_loss: 1.3028 - val_accuracy: 0.8375\n",
            "Epoch 7/50\n",
            "22/22 [==============================] - 14s 654ms/step - loss: 0.9567 - accuracy: 1.0000 - val_loss: 1.2910 - val_accuracy: 0.8625\n",
            "Epoch 8/50\n",
            "22/22 [==============================] - 14s 652ms/step - loss: 0.9564 - accuracy: 1.0000 - val_loss: 1.2694 - val_accuracy: 0.8625\n",
            "Epoch 9/50\n",
            "22/22 [==============================] - 14s 652ms/step - loss: 0.9560 - accuracy: 1.0000 - val_loss: 1.2632 - val_accuracy: 0.8687\n",
            "Epoch 10/50\n",
            "22/22 [==============================] - 14s 654ms/step - loss: 0.9552 - accuracy: 1.0000 - val_loss: 1.2551 - val_accuracy: 0.8813\n",
            "Epoch 11/50\n",
            "22/22 [==============================] - 14s 652ms/step - loss: 0.9551 - accuracy: 1.0000 - val_loss: 1.2468 - val_accuracy: 0.8875\n",
            "Epoch 12/50\n",
            "22/22 [==============================] - 14s 655ms/step - loss: 0.9549 - accuracy: 1.0000 - val_loss: 1.2442 - val_accuracy: 0.8813\n",
            "Epoch 13/50\n",
            "22/22 [==============================] - 14s 655ms/step - loss: 0.9544 - accuracy: 1.0000 - val_loss: 1.2479 - val_accuracy: 0.8875\n",
            "Epoch 14/50\n",
            "22/22 [==============================] - 14s 653ms/step - loss: 0.9545 - accuracy: 1.0000 - val_loss: 1.2436 - val_accuracy: 0.8938\n",
            "Epoch 15/50\n",
            "22/22 [==============================] - 14s 653ms/step - loss: 0.9541 - accuracy: 1.0000 - val_loss: 1.2392 - val_accuracy: 0.9062\n",
            "Epoch 16/50\n",
            "22/22 [==============================] - 14s 653ms/step - loss: 0.9544 - accuracy: 1.0000 - val_loss: 1.2399 - val_accuracy: 0.8938\n",
            "Epoch 17/50\n",
            "22/22 [==============================] - 14s 655ms/step - loss: 0.9546 - accuracy: 1.0000 - val_loss: 1.2323 - val_accuracy: 0.8938\n",
            "Epoch 18/50\n",
            "22/22 [==============================] - 14s 653ms/step - loss: 0.9535 - accuracy: 1.0000 - val_loss: 1.2375 - val_accuracy: 0.9125\n",
            "Epoch 19/50\n",
            "22/22 [==============================] - 14s 651ms/step - loss: 0.9536 - accuracy: 1.0000 - val_loss: 1.2357 - val_accuracy: 0.9125\n",
            "Epoch 20/50\n",
            "22/22 [==============================] - 14s 653ms/step - loss: 0.9531 - accuracy: 1.0000 - val_loss: 1.2355 - val_accuracy: 0.9125\n",
            "Epoch 21/50\n",
            "22/22 [==============================] - 14s 652ms/step - loss: 0.9532 - accuracy: 1.0000 - val_loss: 1.2380 - val_accuracy: 0.9062\n",
            "Epoch 22/50\n",
            "22/22 [==============================] - 14s 653ms/step - loss: 0.9531 - accuracy: 1.0000 - val_loss: 1.2346 - val_accuracy: 0.9125\n",
            "Epoch 23/50\n",
            "22/22 [==============================] - 14s 652ms/step - loss: 0.9532 - accuracy: 1.0000 - val_loss: 1.2388 - val_accuracy: 0.9000\n",
            "Epoch 24/50\n",
            "22/22 [==============================] - 14s 655ms/step - loss: 0.9526 - accuracy: 1.0000 - val_loss: 1.2379 - val_accuracy: 0.9125\n",
            "Epoch 25/50\n",
            "22/22 [==============================] - 14s 655ms/step - loss: 0.9527 - accuracy: 1.0000 - val_loss: 1.2410 - val_accuracy: 0.9125\n",
            "Epoch 26/50\n",
            "22/22 [==============================] - 14s 656ms/step - loss: 0.9524 - accuracy: 1.0000 - val_loss: 1.2381 - val_accuracy: 0.9000\n",
            "Epoch 27/50\n",
            "22/22 [==============================] - 14s 655ms/step - loss: 0.9519 - accuracy: 1.0000 - val_loss: 1.2385 - val_accuracy: 0.9125\n",
            "Epoch 28/50\n",
            "22/22 [==============================] - 14s 653ms/step - loss: 0.9524 - accuracy: 1.0000 - val_loss: 1.2357 - val_accuracy: 0.9187\n",
            "Epoch 29/50\n",
            "22/22 [==============================] - 14s 653ms/step - loss: 0.9522 - accuracy: 1.0000 - val_loss: 1.2390 - val_accuracy: 0.9000\n",
            "Epoch 30/50\n",
            "22/22 [==============================] - 14s 653ms/step - loss: 0.9517 - accuracy: 1.0000 - val_loss: 1.2443 - val_accuracy: 0.9062\n",
            "Epoch 31/50\n",
            "22/22 [==============================] - 14s 653ms/step - loss: 0.9516 - accuracy: 1.0000 - val_loss: 1.2406 - val_accuracy: 0.9062\n",
            "Epoch 32/50\n",
            "22/22 [==============================] - 14s 654ms/step - loss: 0.9515 - accuracy: 1.0000 - val_loss: 1.2387 - val_accuracy: 0.9125\n",
            "Epoch 33/50\n",
            "22/22 [==============================] - 14s 655ms/step - loss: 0.9511 - accuracy: 1.0000 - val_loss: 1.2389 - val_accuracy: 0.9062\n",
            "Epoch 34/50\n",
            "22/22 [==============================] - 14s 654ms/step - loss: 0.9516 - accuracy: 1.0000 - val_loss: 1.2431 - val_accuracy: 0.9062\n",
            "Epoch 35/50\n",
            "22/22 [==============================] - 14s 655ms/step - loss: 0.9515 - accuracy: 1.0000 - val_loss: 1.2418 - val_accuracy: 0.9000\n",
            "Epoch 36/50\n",
            "22/22 [==============================] - 14s 653ms/step - loss: 0.9508 - accuracy: 1.0000 - val_loss: 1.2432 - val_accuracy: 0.9000\n",
            "Epoch 37/50\n",
            "22/22 [==============================] - 14s 651ms/step - loss: 0.9513 - accuracy: 1.0000 - val_loss: 1.2405 - val_accuracy: 0.9062\n",
            "Epoch 38/50\n",
            "22/22 [==============================] - 14s 654ms/step - loss: 0.9511 - accuracy: 1.0000 - val_loss: 1.2386 - val_accuracy: 0.9000\n",
            "Epoch 39/50\n",
            "22/22 [==============================] - 14s 655ms/step - loss: 0.9509 - accuracy: 1.0000 - val_loss: 1.2422 - val_accuracy: 0.8938\n",
            "Epoch 40/50\n",
            "22/22 [==============================] - 14s 653ms/step - loss: 0.9508 - accuracy: 1.0000 - val_loss: 1.2394 - val_accuracy: 0.8938\n",
            "Epoch 41/50\n",
            "22/22 [==============================] - 14s 656ms/step - loss: 0.9506 - accuracy: 1.0000 - val_loss: 1.2405 - val_accuracy: 0.9000\n",
            "Epoch 42/50\n",
            "22/22 [==============================] - 14s 656ms/step - loss: 0.9506 - accuracy: 1.0000 - val_loss: 1.2399 - val_accuracy: 0.9062\n",
            "Epoch 43/50\n",
            "22/22 [==============================] - 14s 655ms/step - loss: 0.9507 - accuracy: 1.0000 - val_loss: 1.2400 - val_accuracy: 0.9125\n",
            "Epoch 44/50\n",
            "22/22 [==============================] - 14s 653ms/step - loss: 0.9505 - accuracy: 1.0000 - val_loss: 1.2367 - val_accuracy: 0.9062\n",
            "Epoch 45/50\n",
            "22/22 [==============================] - 14s 654ms/step - loss: 0.9502 - accuracy: 1.0000 - val_loss: 1.2346 - val_accuracy: 0.9062\n",
            "Epoch 46/50\n",
            "22/22 [==============================] - 14s 654ms/step - loss: 0.9502 - accuracy: 1.0000 - val_loss: 1.2379 - val_accuracy: 0.9062\n",
            "Epoch 47/50\n",
            "22/22 [==============================] - 14s 655ms/step - loss: 0.9504 - accuracy: 1.0000 - val_loss: 1.2396 - val_accuracy: 0.8938\n",
            "Epoch 48/50\n",
            "22/22 [==============================] - 14s 653ms/step - loss: 0.9503 - accuracy: 1.0000 - val_loss: 1.2389 - val_accuracy: 0.8938\n",
            "Epoch 49/50\n",
            "22/22 [==============================] - 14s 654ms/step - loss: 0.9502 - accuracy: 1.0000 - val_loss: 1.2354 - val_accuracy: 0.9000\n",
            "Epoch 50/50\n",
            "22/22 [==============================] - 14s 655ms/step - loss: 0.9500 - accuracy: 1.0000 - val_loss: 1.2342 - val_accuracy: 0.9062\n"
          ],
          "name": "stdout"
        }
      ]
    },
    {
      "cell_type": "code",
      "metadata": {
        "id": "jw2rZ9MHzeW9",
        "colab_type": "code",
        "colab": {
          "base_uri": "https://localhost:8080/",
          "height": 567
        },
        "outputId": "2d29e264-d8e2-4533-a999-8ffbf9cef9bb"
      },
      "source": [
        "plt.figure()\n",
        "plt.ylabel(\"Loss (training and validation)\")\n",
        "plt.xlabel(\"Training Steps\")\n",
        "plt.ylim([0,2])\n",
        "plt.plot(hist[\"loss\"])\n",
        "plt.plot(hist[\"val_loss\"])\n",
        "\n",
        "plt.figure()\n",
        "plt.ylabel(\"Accuracy (training and validation)\")\n",
        "plt.xlabel(\"Training Steps\")\n",
        "plt.ylim([0,1])\n",
        "plt.plot(hist[\"accuracy\"])\n",
        "plt.plot(hist[\"val_accuracy\"])"
      ],
      "execution_count": 10,
      "outputs": [
        {
          "output_type": "execute_result",
          "data": {
            "text/plain": [
              "[<matplotlib.lines.Line2D at 0x7fec8717f710>]"
            ]
          },
          "metadata": {
            "tags": []
          },
          "execution_count": 10
        },
        {
          "output_type": "display_data",
          "data": {
            "image/png": "[encoded data removed]",
            "text/plain": [
              "<Figure size 432x288 with 1 Axes>"
            ]
          },
          "metadata": {
            "tags": []
          }
        },
        {
          "output_type": "display_data",
          "data": {
            "image/png": "[encoded data removed]",
            "text/plain": [
              "<Figure size 432x288 with 1 Axes>"
            ]
          },
          "metadata": {
            "tags": []
          }
        }
      ]
    },
    {
      "cell_type": "code",
      "metadata": {
        "id": "PY9CaGZEzxAD",
        "colab_type": "code",
        "colab": {
          "base_uri": "https://localhost:8080/",
          "height": 181
        },
        "outputId": "b502396c-bbae-4a8b-8287-0d630fc11a45"
      },
      "source": [
        "saved_model_path = \"/content/drive/My Drive/ws/saved_ck_model1\"\n",
        "tf.saved_model.save(model, saved_model_path)"
      ],
      "execution_count": 11,
      "outputs": [
        {
          "output_type": "stream",
          "text": [
            "WARNING:tensorflow:From /tensorflow-2.1.0/python3.6/tensorflow_core/python/ops/resource_variable_ops.py:1786: calling BaseResourceVariable.__init__ (from tensorflow.python.ops.resource_variable_ops) with constraint is deprecated and will be removed in a future version.\n",
            "Instructions for updating:\n",
            "If using Keras pass *_constraint arguments to layers.\n"
          ],
          "name": "stdout"
        },
        {
          "output_type": "stream",
          "text": [
            "WARNING:tensorflow:From /tensorflow-2.1.0/python3.6/tensorflow_core/python/ops/resource_variable_ops.py:1786: calling BaseResourceVariable.__init__ (from tensorflow.python.ops.resource_variable_ops) with constraint is deprecated and will be removed in a future version.\n",
            "Instructions for updating:\n",
            "If using Keras pass *_constraint arguments to layers.\n"
          ],
          "name": "stderr"
        },
        {
          "output_type": "stream",
          "text": [
            "INFO:tensorflow:Assets written to: /content/drive/My Drive/ws/saved_ck_model1/assets\n"
          ],
          "name": "stdout"
        },
        {
          "output_type": "stream",
          "text": [
            "INFO:tensorflow:Assets written to: /content/drive/My Drive/ws/saved_ck_model1/assets\n"
          ],
          "name": "stderr"
        }
      ]
    },
    {
      "cell_type": "markdown",
      "metadata": {
        "id": "_iPPzmkO0JlK",
        "colab_type": "text"
      },
      "source": [
        "Optional: Deployment to TensorFlow Lite\n",
        "TensorFlow Lite lets you deploy TensorFlow models to mobile and IoT devices. The code below shows how to convert the trained model to TF Lite and apply post-training tools from the TensorFlow Model Optimization Toolkit. Finally, it runs it in the TF Lite Interpreter to examine the resulting quality\n",
        "\n",
        "Converting without optimization provides the same results as before (up to roundoff error).\n",
        "Converting with optimization without any data quantizes the model weights to 8 bits, but inference still uses floating-point computation for the neural network activations. This reduces model size almost by a factor of 4 and improves CPU latency on mobile devices.\n",
        "On top, computation of the neural network activations can be quantized to 8-bit integers as well if a small reference dataset is provided to calibrate the quantization range. On a mobile device, this accelerates inference further and makes it possible to run on accelerators like EdgeTPU."
      ]
    },
    {
      "cell_type": "code",
      "metadata": {
        "id": "LhnL5dS60KtO",
        "colab_type": "code",
        "colab": {
          "base_uri": "https://localhost:8080/",
          "height": 35
        },
        "cellView": "both",
        "outputId": "d0e45cf4-59ac-480c-ccc2-0d590272df54"
      },
      "source": [
        "#@title Optimization settings\n",
        "optimize_lite_model = False  #@param {type:\"boolean\"}\n",
        "#@markdown Setting a value greater than zero enables quantization of neural network activations. A few dozen is already a useful amount.\n",
        "num_calibration_examples = 60  #@param {type:\"slider\", min:0, max:1000, step:1}\n",
        "representative_dataset = None\n",
        "if optimize_lite_model and num_calibration_examples:\n",
        "  # Use a bounded number of training examples without labels for calibration.\n",
        "  # TFLiteConverter expects a list of input tensors, each with batch size 1.\n",
        "  representative_dataset = lambda: itertools.islice(\n",
        "      ([image[None, ...]] for batch, _ in train_generator for image in batch),\n",
        "      num_calibration_examples)\n",
        "\n",
        "converter = tf.lite.TFLiteConverter.from_saved_model(saved_model_path)\n",
        "if optimize_lite_model:\n",
        "  converter.optimizations = [tf.lite.Optimize.DEFAULT]\n",
        "  if representative_dataset:  # This is optional, see above.\n",
        "    converter.representative_dataset = representative_dataset\n",
        "lite_model_content = converter.convert()\n",
        "\n",
        "with open(\"/content/drive/My Drive/ws/lite_ck_model1\", \"wb\") as f:\n",
        "  f.write(lite_model_content)\n",
        "print(\"Wrote %sTFLite model of %d bytes.\" %\n",
        "      (\"optimized \" if optimize_lite_model else \"\", len(lite_model_content)))"
      ],
      "execution_count": 13,
      "outputs": [
        {
          "output_type": "stream",
          "text": [
            "Wrote TFLite model of 217393340 bytes.\n"
          ],
          "name": "stdout"
        }
      ]
    },
    {
      "cell_type": "code",
      "metadata": {
        "id": "jToHZfoQ1I63",
        "colab_type": "code",
        "colab": {}
      },
      "source": [
        "interpreter = tf.lite.Interpreter(model_content=lite_model_content)\n",
        "# This little helper wraps the TF Lite interpreter as a numpy-to-numpy function.\n",
        "def lite_model(images):\n",
        "  interpreter.allocate_tensors()\n",
        "  interpreter.set_tensor(interpreter.get_input_details()[0]['index'], images)\n",
        "  interpreter.invoke()\n",
        "  return interpreter.get_tensor(interpreter.get_output_details()[0]['index'])"
      ],
      "execution_count": 0,
      "outputs": []
    },
    {
      "cell_type": "code",
      "metadata": {
        "id": "rT6iWswv1N6r",
        "colab_type": "code",
        "colab": {
          "base_uri": "https://localhost:8080/",
          "height": 53
        },
        "outputId": "fd1b8dbe-7dc9-46d3-d3ce-ff04c87048f1"
      },
      "source": [
        "#@markdown For rapid experimentation, start with a moderate number of examples.\n",
        "num_eval_examples = 50  #@param {type:\"slider\", min:0, max:700}\n",
        "eval_dataset = ((image, label)  # TFLite expects batch size 1.\n",
        "                for batch in train_generator\n",
        "                for (image, label) in zip(*batch))\n",
        "count = 0\n",
        "count_lite_tf_agree = 0\n",
        "count_lite_correct = 0\n",
        "for image, label in eval_dataset:\n",
        "  probs_lite = lite_model(image[None, ...])[0]\n",
        "  probs_tf = model(image[None, ...]).numpy()[0]\n",
        "  y_lite = np.argmax(probs_lite)\n",
        "  y_tf = np.argmax(probs_tf)\n",
        "  y_true = np.argmax(label)\n",
        "  count +=1\n",
        "  if y_lite == y_tf: count_lite_tf_agree += 1\n",
        "  if y_lite == y_true: count_lite_correct += 1\n",
        "  if count >= num_eval_examples: break\n",
        "print(\"TF Lite model agrees with original model on %d of %d examples (%g%%).\" %\n",
        "      (count_lite_tf_agree, count, 100.0 * count_lite_tf_agree / count))\n",
        "print(\"TF Lite model is accurate on %d of %d examples (%g%%).\" %\n",
        "      (count_lite_correct, count, 100.0 * count_lite_correct / count))"
      ],
      "execution_count": 15,
      "outputs": [
        {
          "output_type": "stream",
          "text": [
            "TF Lite model agrees with original model on 50 of 50 examples (100%).\n",
            "TF Lite model is accurate on 50 of 50 examples (100%).\n"
          ],
          "name": "stdout"
        }
      ]
    }
  ]
}