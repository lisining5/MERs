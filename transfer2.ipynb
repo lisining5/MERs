{
  "nbformat": 4,
  "nbformat_minor": 0,
  "metadata": {
    "colab": {
      "name": "transfer2.ipynb",
      "provenance": [],
      "authorship_tag": "ABX9TyOxZfAdspLMUS8kKuR7M1H1",
      "include_colab_link": true
    },
    "kernelspec": {
      "name": "python3",
      "display_name": "Python 3"
    },
    "accelerator": "GPU"
  },
  "cells": [
    {
      "cell_type": "markdown",
      "metadata": {
        "id": "view-in-github",
        "colab_type": "text"
      },
      "source": [
        "<a href=\"https://colab.research.google.com/github/lisining5/MERs/blob/master/transfer2.ipynb\" target=\"_parent\"><img src=\"https://colab.research.google.com/assets/colab-badge.svg\" alt=\"Open In Colab\"/></a>"
      ]
    },
    {
      "cell_type": "code",
      "metadata": {
        "id": "Ckb4KHknf-TP",
        "colab_type": "code",
        "colab": {
          "base_uri": "https://localhost:8080/",
          "height": 71
        },
        "outputId": "bf4d82ab-ea07-4186-8846-b675770976c0"
      },
      "source": [
        "try:\n",
        "  # %tensorflow_version only exists in Colab.\n",
        "  %tensorflow_version 2.x\n",
        "except Exception:\n",
        "  pass\n",
        "import itertools\n",
        "import os\n",
        "\n",
        "import matplotlib.pylab as plt\n",
        "import numpy as np\n",
        "\n",
        "import tensorflow as tf\n",
        "import tensorflow_hub as hub\n",
        "\n",
        "import pathlib\n",
        "\n",
        "print(\"TF version:\", tf.__version__)\n",
        "print(\"Hub version:\", hub.__version__)\n",
        "print(\"GPU is\", \"available\" if tf.test.is_gpu_available() else \"NOT AVAILABLE\")"
      ],
      "execution_count": 7,
      "outputs": [
        {
          "output_type": "stream",
          "text": [
            "TF version: 2.1.0\n",
            "Hub version: 0.7.0\n",
            "GPU is available\n"
          ],
          "name": "stdout"
        }
      ]
    },
    {
      "cell_type": "code",
      "metadata": {
        "id": "_KRmTKZXg-iw",
        "colab_type": "code",
        "colab": {
          "base_uri": "https://localhost:8080/",
          "height": 127
        },
        "outputId": "6dc3d518-52c6-45d4-c3a4-1f82e3c87167"
      },
      "source": [
        "from google.colab import drive\n",
        "drive.mount('/content/drive')"
      ],
      "execution_count": 4,
      "outputs": [
        {
          "output_type": "stream",
          "text": [
            "Go to this URL in a browser: https://accounts.google.com/o/oauth2/auth?client_id=947318989803-6bn6qk8qdgf4n4g3pfee6491hc0brc4i.apps.googleusercontent.com&redirect_uri=urn%3aietf%3awg%3aoauth%3a2.0%3aoob&response_type=code&scope=email%20https%3a%2f%2fwww.googleapis.com%2fauth%2fdocs.test%20https%3a%2f%2fwww.googleapis.com%2fauth%2fdrive%20https%3a%2f%2fwww.googleapis.com%2fauth%2fdrive.photos.readonly%20https%3a%2f%2fwww.googleapis.com%2fauth%2fpeopleapi.readonly\n",
            "\n",
            "Enter your authorization code:\n",
            "··········\n",
            "Mounted at /content/drive\n"
          ],
          "name": "stdout"
        }
      ]
    },
    {
      "cell_type": "code",
      "metadata": {
        "id": "nY7OErR_iAkB",
        "colab_type": "code",
        "colab": {
          "base_uri": "https://localhost:8080/",
          "height": 35
        },
        "outputId": "1bbedc1a-97b5-4ac2-f9c8-e7904d0d9b36"
      },
      "source": [
        "module_selection = (\"inception_resnet_v2\", 299) #@param [\"(\\\"mobilenet_v2_100_224\\\", 224)\", \"(\\\"inception_v3\\\", 299)\"] {type:\"raw\", allow-input: true}\n",
        "handle_base, pixels = module_selection\n",
        "MODULE_HANDLE =\"https://tfhub.dev/google/imagenet/inception_resnet_v2/feature_vector/4\".format(handle_base)\n",
        "IMAGE_SIZE = (pixels, pixels)\n",
        "print(\"Using {} with input size {}\".format(MODULE_HANDLE, IMAGE_SIZE))\n",
        "\n",
        "BATCH_SIZE = 32 #@param {type:\"integer\"}"
      ],
      "execution_count": 5,
      "outputs": [
        {
          "output_type": "stream",
          "text": [
            "Using https://tfhub.dev/google/imagenet/inception_resnet_v2/feature_vector/4 with input size (299, 299)\n"
          ],
          "name": "stdout"
        }
      ]
    },
    {
      "cell_type": "code",
      "metadata": {
        "id": "ls0VJiffiKKD",
        "colab_type": "code",
        "colab": {
          "base_uri": "https://localhost:8080/",
          "height": 35
        },
        "outputId": "d58b922a-819c-4c9d-9f37-7537de91bf8e"
      },
      "source": [
        "data_root_orig = \"/content/drive/My Drive/myMerPy2/Database_New/CASME2_n299\"\n",
        "data_root = pathlib.Path(data_root_orig)\n",
        "print(data_root)"
      ],
      "execution_count": 10,
      "outputs": [
        {
          "output_type": "stream",
          "text": [
            "/content/drive/My Drive/myMerPy2/Database_New/CASME2_n299\n"
          ],
          "name": "stdout"
        }
      ]
    },
    {
      "cell_type": "code",
      "metadata": {
        "id": "zudqBpExigli",
        "colab_type": "code",
        "colab": {
          "base_uri": "https://localhost:8080/",
          "height": 107
        },
        "outputId": "352e11f0-b6db-4e7d-eedb-6afa24c603d5"
      },
      "source": [
        "for item in data_root.iterdir():\n",
        "  print(item)"
      ],
      "execution_count": 11,
      "outputs": [
        {
          "output_type": "stream",
          "text": [
            "/content/drive/My Drive/myMerPy2/Database_New/CASME2_n299/surprise\n",
            "/content/drive/My Drive/myMerPy2/Database_New/CASME2_n299/repression\n",
            "/content/drive/My Drive/myMerPy2/Database_New/CASME2_n299/others\n",
            "/content/drive/My Drive/myMerPy2/Database_New/CASME2_n299/disgust\n",
            "/content/drive/My Drive/myMerPy2/Database_New/CASME2_n299/happiness\n"
          ],
          "name": "stdout"
        }
      ]
    },
    {
      "cell_type": "code",
      "metadata": {
        "id": "pN58j_nlivFB",
        "colab_type": "code",
        "colab": {
          "base_uri": "https://localhost:8080/",
          "height": 35
        },
        "outputId": "2d20d16a-7bde-40ae-dc4e-b6a078d623e9"
      },
      "source": [
        "import random\n",
        "all_image_paths = list(data_root.glob('*/*'))\n",
        "all_image_paths = [str(path) for path in all_image_paths]\n",
        "random.shuffle(all_image_paths)\n",
        "\n",
        "image_count = len(all_image_paths)\n",
        "image_count"
      ],
      "execution_count": 12,
      "outputs": [
        {
          "output_type": "execute_result",
          "data": {
            "text/plain": [
              "254"
            ]
          },
          "metadata": {
            "tags": []
          },
          "execution_count": 12
        }
      ]
    },
    {
      "cell_type": "code",
      "metadata": {
        "id": "d3O43ybSiyny",
        "colab_type": "code",
        "colab": {
          "base_uri": "https://localhost:8080/",
          "height": 53
        },
        "outputId": "163c9987-ab09-4c8e-f00f-db4e437a6069"
      },
      "source": [
        "data_dir = \"/content/drive/My Drive/myMerPy2/Database_New/CASME2_n299\"\n",
        "datagen_kwargs = dict(rescale=1./255, validation_split=.20)\n",
        "dataflow_kwargs = dict(target_size=IMAGE_SIZE, batch_size=BATCH_SIZE,\n",
        "                   interpolation=\"bilinear\")\n",
        "\n",
        "valid_datagen = tf.keras.preprocessing.image.ImageDataGenerator(\n",
        "    **datagen_kwargs)\n",
        "valid_generator = valid_datagen.flow_from_directory(\n",
        "    data_dir, subset=\"validation\", shuffle=False, **dataflow_kwargs)\n",
        "\n",
        "do_data_augmentation = False #@param {type:\"boolean\"}\n",
        "if do_data_augmentation:\n",
        "  train_datagen = tf.keras.preprocessing.image.ImageDataGenerator(\n",
        "      rotation_range=40,\n",
        "      horizontal_flip=True,\n",
        "      width_shift_range=0.2, height_shift_range=0.2,\n",
        "      shear_range=0.2, zoom_range=0.2,\n",
        "      **datagen_kwargs)\n",
        "else:\n",
        "  train_datagen = valid_datagen\n",
        "train_generator = train_datagen.flow_from_directory(\n",
        "    data_dir, subset=\"training\", shuffle=True, **dataflow_kwargs)"
      ],
      "execution_count": 13,
      "outputs": [
        {
          "output_type": "stream",
          "text": [
            "Found 49 images belonging to 5 classes.\n",
            "Found 205 images belonging to 5 classes.\n"
          ],
          "name": "stdout"
        }
      ]
    },
    {
      "cell_type": "markdown",
      "metadata": {
        "id": "kUMwzFlVi78q",
        "colab_type": "text"
      },
      "source": [
        "Defining the model\n",
        "All it takes is to put a linear classifier on top of the feature_extractor_layer with the Hub module.\n",
        "\n",
        "For speed, we start out with a non-trainable feature_extractor_layer, but you can also enable fine-tuning for greater accuracy."
      ]
    },
    {
      "cell_type": "code",
      "metadata": {
        "id": "-Y4WYAoYi5BE",
        "colab_type": "code",
        "colab": {}
      },
      "source": [
        "do_fine_tuning = True #@param {type:\"boolean\"}"
      ],
      "execution_count": 0,
      "outputs": []
    },
    {
      "cell_type": "code",
      "metadata": {
        "id": "nrVciWxDjEXq",
        "colab_type": "code",
        "colab": {
          "base_uri": "https://localhost:8080/",
          "height": 287
        },
        "outputId": "d77ae170-241e-4412-d2b7-702a7b7639b1"
      },
      "source": [
        "print(\"Building model with\", MODULE_HANDLE)\n",
        "model = tf.keras.Sequential([\n",
        "    hub.KerasLayer(MODULE_HANDLE, trainable=do_fine_tuning),\n",
        "    tf.keras.layers.Dropout(rate=0.2),\n",
        "    tf.keras.layers.Dense(train_generator.num_classes, activation='softmax',\n",
        "                          kernel_regularizer=tf.keras.regularizers.l2(0.0001))\n",
        "])\n",
        "model.build((None,)+IMAGE_SIZE+(3,))\n",
        "model.summary()"
      ],
      "execution_count": 24,
      "outputs": [
        {
          "output_type": "stream",
          "text": [
            "Building model with https://tfhub.dev/google/imagenet/inception_resnet_v2/feature_vector/4\n",
            "Model: \"sequential_1\"\n",
            "_________________________________________________________________\n",
            "Layer (type)                 Output Shape              Param #   \n",
            "=================================================================\n",
            "keras_layer_1 (KerasLayer)   multiple                  54336736  \n",
            "_________________________________________________________________\n",
            "dropout_1 (Dropout)          multiple                  0         \n",
            "_________________________________________________________________\n",
            "dense_1 (Dense)              multiple                  7685      \n",
            "=================================================================\n",
            "Total params: 54,344,421\n",
            "Trainable params: 54,283,877\n",
            "Non-trainable params: 60,544\n",
            "_________________________________________________________________\n"
          ],
          "name": "stdout"
        }
      ]
    },
    {
      "cell_type": "markdown",
      "metadata": {
        "id": "dnMl_-ltjLJy",
        "colab_type": "text"
      },
      "source": [
        "Training the model"
      ]
    },
    {
      "cell_type": "code",
      "metadata": {
        "id": "ofrI_R9AjPOq",
        "colab_type": "code",
        "colab": {}
      },
      "source": [
        "model.compile(\n",
        "  optimizer=tf.keras.optimizers.SGD(lr=0.0005, momentum=0.8), \n",
        "  loss=tf.keras.losses.CategoricalCrossentropy(label_smoothing=0.1),\n",
        "  metrics=['accuracy'])"
      ],
      "execution_count": 0,
      "outputs": []
    },
    {
      "cell_type": "code",
      "metadata": {
        "id": "gPYUsUwdjTXq",
        "colab_type": "code",
        "colab": {
          "base_uri": "https://localhost:8080/",
          "height": 1000
        },
        "outputId": "6960dc7b-fab6-46ee-878d-65a240f7fc35"
      },
      "source": [
        "steps_per_epoch = train_generator.samples // train_generator.batch_size\n",
        "validation_steps = valid_generator.samples // valid_generator.batch_size\n",
        "hist = model.fit_generator(\n",
        "    train_generator,\n",
        "    epochs=70, steps_per_epoch=steps_per_epoch,\n",
        "    validation_data=valid_generator,\n",
        "    validation_steps=validation_steps).history"
      ],
      "execution_count": 26,
      "outputs": [
        {
          "output_type": "stream",
          "text": [
            "WARNING:tensorflow:sample_weight modes were coerced from\n",
            "  ...\n",
            "    to  \n",
            "  ['...']\n"
          ],
          "name": "stdout"
        },
        {
          "output_type": "stream",
          "text": [
            "WARNING:tensorflow:sample_weight modes were coerced from\n",
            "  ...\n",
            "    to  \n",
            "  ['...']\n"
          ],
          "name": "stderr"
        },
        {
          "output_type": "stream",
          "text": [
            "Train for 6 steps, validate for 1 steps\n",
            "Epoch 1/70\n",
            "6/6 [==============================] - 29s 5s/step - loss: 2.0995 - accuracy: 0.2775 - val_loss: 1.8527 - val_accuracy: 0.4375\n",
            "Epoch 2/70\n",
            "6/6 [==============================] - 4s 676ms/step - loss: 2.0721 - accuracy: 0.2708 - val_loss: 1.8360 - val_accuracy: 0.6875\n",
            "Epoch 3/70\n",
            "6/6 [==============================] - 4s 625ms/step - loss: 2.0104 - accuracy: 0.3757 - val_loss: 1.8285 - val_accuracy: 0.4688\n",
            "Epoch 4/70\n",
            "6/6 [==============================] - 4s 631ms/step - loss: 1.9694 - accuracy: 0.3873 - val_loss: 1.8355 - val_accuracy: 0.4688\n",
            "Epoch 5/70\n",
            "6/6 [==============================] - 4s 623ms/step - loss: 1.9224 - accuracy: 0.4451 - val_loss: 1.8388 - val_accuracy: 0.4688\n",
            "Epoch 6/70\n",
            "6/6 [==============================] - 4s 624ms/step - loss: 1.8919 - accuracy: 0.4740 - val_loss: 1.8343 - val_accuracy: 0.4375\n",
            "Epoch 7/70\n",
            "6/6 [==============================] - 4s 614ms/step - loss: 1.8438 - accuracy: 0.4740 - val_loss: 1.8381 - val_accuracy: 0.3750\n",
            "Epoch 8/70\n",
            "6/6 [==============================] - 4s 622ms/step - loss: 1.8271 - accuracy: 0.5087 - val_loss: 1.8428 - val_accuracy: 0.3750\n",
            "Epoch 9/70\n",
            "6/6 [==============================] - 4s 621ms/step - loss: 1.7961 - accuracy: 0.5087 - val_loss: 1.8440 - val_accuracy: 0.3750\n",
            "Epoch 10/70\n",
            "6/6 [==============================] - 4s 621ms/step - loss: 1.7395 - accuracy: 0.5723 - val_loss: 1.8399 - val_accuracy: 0.3750\n",
            "Epoch 11/70\n",
            "6/6 [==============================] - 4s 622ms/step - loss: 1.7079 - accuracy: 0.5723 - val_loss: 1.8381 - val_accuracy: 0.3750\n",
            "Epoch 12/70\n",
            "6/6 [==============================] - 4s 623ms/step - loss: 1.7234 - accuracy: 0.6069 - val_loss: 1.8396 - val_accuracy: 0.3750\n",
            "Epoch 13/70\n",
            "6/6 [==============================] - 4s 621ms/step - loss: 1.7001 - accuracy: 0.5665 - val_loss: 1.8413 - val_accuracy: 0.3750\n",
            "Epoch 14/70\n",
            "6/6 [==============================] - 4s 626ms/step - loss: 1.6371 - accuracy: 0.6705 - val_loss: 1.8462 - val_accuracy: 0.3750\n",
            "Epoch 15/70\n",
            "6/6 [==============================] - 4s 624ms/step - loss: 1.6480 - accuracy: 0.6185 - val_loss: 1.8464 - val_accuracy: 0.3750\n",
            "Epoch 16/70\n",
            "6/6 [==============================] - 4s 671ms/step - loss: 1.6419 - accuracy: 0.6510 - val_loss: 1.8453 - val_accuracy: 0.3750\n",
            "Epoch 17/70\n",
            "6/6 [==============================] - 4s 620ms/step - loss: 1.5954 - accuracy: 0.6936 - val_loss: 1.8495 - val_accuracy: 0.3750\n",
            "Epoch 18/70\n",
            "6/6 [==============================] - 4s 623ms/step - loss: 1.5955 - accuracy: 0.6532 - val_loss: 1.8516 - val_accuracy: 0.3750\n",
            "Epoch 19/70\n",
            "6/6 [==============================] - 4s 675ms/step - loss: 1.5901 - accuracy: 0.7083 - val_loss: 1.8550 - val_accuracy: 0.3750\n",
            "Epoch 20/70\n",
            "6/6 [==============================] - 4s 671ms/step - loss: 1.5589 - accuracy: 0.6979 - val_loss: 1.8541 - val_accuracy: 0.3750\n",
            "Epoch 21/70\n",
            "6/6 [==============================] - 4s 675ms/step - loss: 1.5354 - accuracy: 0.7083 - val_loss: 1.8531 - val_accuracy: 0.3750\n",
            "Epoch 22/70\n",
            "6/6 [==============================] - 4s 621ms/step - loss: 1.5183 - accuracy: 0.7168 - val_loss: 1.8567 - val_accuracy: 0.3750\n",
            "Epoch 23/70\n",
            "6/6 [==============================] - 4s 621ms/step - loss: 1.4773 - accuracy: 0.7977 - val_loss: 1.8597 - val_accuracy: 0.3750\n",
            "Epoch 24/70\n",
            "6/6 [==============================] - 4s 670ms/step - loss: 1.4948 - accuracy: 0.7865 - val_loss: 1.8685 - val_accuracy: 0.3750\n",
            "Epoch 25/70\n",
            "6/6 [==============================] - 4s 622ms/step - loss: 1.4706 - accuracy: 0.7746 - val_loss: 1.8682 - val_accuracy: 0.3750\n",
            "Epoch 26/70\n",
            "6/6 [==============================] - 4s 673ms/step - loss: 1.4639 - accuracy: 0.7604 - val_loss: 1.8624 - val_accuracy: 0.3750\n",
            "Epoch 27/70\n",
            "6/6 [==============================] - 4s 626ms/step - loss: 1.4392 - accuracy: 0.7977 - val_loss: 1.8705 - val_accuracy: 0.3750\n",
            "Epoch 28/70\n",
            "6/6 [==============================] - 4s 627ms/step - loss: 1.4357 - accuracy: 0.8150 - val_loss: 1.8726 - val_accuracy: 0.4375\n",
            "Epoch 29/70\n",
            "6/6 [==============================] - 4s 612ms/step - loss: 1.4121 - accuracy: 0.8382 - val_loss: 1.8810 - val_accuracy: 0.4375\n",
            "Epoch 30/70\n",
            "6/6 [==============================] - 4s 619ms/step - loss: 1.3821 - accuracy: 0.8786 - val_loss: 1.8790 - val_accuracy: 0.4375\n",
            "Epoch 31/70\n",
            "6/6 [==============================] - 4s 621ms/step - loss: 1.3813 - accuracy: 0.8613 - val_loss: 1.8864 - val_accuracy: 0.4375\n",
            "Epoch 32/70\n",
            "6/6 [==============================] - 4s 621ms/step - loss: 1.3689 - accuracy: 0.9017 - val_loss: 1.8929 - val_accuracy: 0.4062\n",
            "Epoch 33/70\n",
            "6/6 [==============================] - 4s 623ms/step - loss: 1.3444 - accuracy: 0.9017 - val_loss: 1.8901 - val_accuracy: 0.4062\n",
            "Epoch 34/70\n",
            "6/6 [==============================] - 4s 618ms/step - loss: 1.3294 - accuracy: 0.9249 - val_loss: 1.9016 - val_accuracy: 0.4375\n",
            "Epoch 35/70\n",
            "6/6 [==============================] - 4s 619ms/step - loss: 1.3252 - accuracy: 0.9480 - val_loss: 1.9078 - val_accuracy: 0.4375\n",
            "Epoch 36/70\n",
            "6/6 [==============================] - 4s 625ms/step - loss: 1.3200 - accuracy: 0.9364 - val_loss: 1.9071 - val_accuracy: 0.4375\n",
            "Epoch 37/70\n",
            "6/6 [==============================] - 4s 626ms/step - loss: 1.3123 - accuracy: 0.9306 - val_loss: 1.9086 - val_accuracy: 0.4375\n",
            "Epoch 38/70\n",
            "6/6 [==============================] - 4s 672ms/step - loss: 1.3175 - accuracy: 0.9375 - val_loss: 1.9096 - val_accuracy: 0.4375\n",
            "Epoch 39/70\n",
            "6/6 [==============================] - 4s 621ms/step - loss: 1.2804 - accuracy: 0.9711 - val_loss: 1.9091 - val_accuracy: 0.4375\n",
            "Epoch 40/70\n",
            "6/6 [==============================] - 4s 613ms/step - loss: 1.2749 - accuracy: 0.9538 - val_loss: 1.9127 - val_accuracy: 0.4375\n",
            "Epoch 41/70\n",
            "6/6 [==============================] - 4s 611ms/step - loss: 1.2551 - accuracy: 0.9595 - val_loss: 1.9202 - val_accuracy: 0.4375\n",
            "Epoch 42/70\n",
            "6/6 [==============================] - 4s 621ms/step - loss: 1.2574 - accuracy: 0.9595 - val_loss: 1.9268 - val_accuracy: 0.4375\n",
            "Epoch 43/70\n",
            "6/6 [==============================] - 4s 627ms/step - loss: 1.2344 - accuracy: 0.9538 - val_loss: 1.9286 - val_accuracy: 0.3750\n",
            "Epoch 44/70\n",
            "6/6 [==============================] - 4s 627ms/step - loss: 1.2165 - accuracy: 0.9653 - val_loss: 1.9343 - val_accuracy: 0.3750\n",
            "Epoch 45/70\n",
            "6/6 [==============================] - 4s 622ms/step - loss: 1.2265 - accuracy: 0.9884 - val_loss: 1.9372 - val_accuracy: 0.3750\n",
            "Epoch 46/70\n",
            "6/6 [==============================] - 4s 614ms/step - loss: 1.2147 - accuracy: 0.9769 - val_loss: 1.9412 - val_accuracy: 0.3750\n",
            "Epoch 47/70\n",
            "6/6 [==============================] - 4s 620ms/step - loss: 1.2097 - accuracy: 0.9711 - val_loss: 1.9452 - val_accuracy: 0.3750\n",
            "Epoch 48/70\n",
            "6/6 [==============================] - 4s 621ms/step - loss: 1.1976 - accuracy: 0.9769 - val_loss: 1.9514 - val_accuracy: 0.3750\n",
            "Epoch 49/70\n",
            "6/6 [==============================] - 4s 623ms/step - loss: 1.1874 - accuracy: 0.9884 - val_loss: 1.9458 - val_accuracy: 0.3750\n",
            "Epoch 50/70\n",
            "6/6 [==============================] - 4s 630ms/step - loss: 1.1829 - accuracy: 0.9769 - val_loss: 1.9463 - val_accuracy: 0.3750\n",
            "Epoch 51/70\n",
            "6/6 [==============================] - 4s 629ms/step - loss: 1.1679 - accuracy: 0.9827 - val_loss: 1.9500 - val_accuracy: 0.3750\n",
            "Epoch 52/70\n",
            "6/6 [==============================] - 4s 620ms/step - loss: 1.1615 - accuracy: 0.9827 - val_loss: 1.9472 - val_accuracy: 0.3750\n",
            "Epoch 53/70\n",
            "6/6 [==============================] - 4s 626ms/step - loss: 1.1357 - accuracy: 0.9942 - val_loss: 1.9522 - val_accuracy: 0.3750\n",
            "Epoch 54/70\n",
            "6/6 [==============================] - 4s 667ms/step - loss: 1.1572 - accuracy: 1.0000 - val_loss: 1.9572 - val_accuracy: 0.3750\n",
            "Epoch 55/70\n",
            "6/6 [==============================] - 4s 621ms/step - loss: 1.1311 - accuracy: 1.0000 - val_loss: 1.9519 - val_accuracy: 0.3750\n",
            "Epoch 56/70\n",
            "6/6 [==============================] - 4s 615ms/step - loss: 1.1250 - accuracy: 1.0000 - val_loss: 1.9483 - val_accuracy: 0.4375\n",
            "Epoch 57/70\n",
            "6/6 [==============================] - 4s 611ms/step - loss: 1.1279 - accuracy: 1.0000 - val_loss: 1.9492 - val_accuracy: 0.4375\n",
            "Epoch 58/70\n",
            "6/6 [==============================] - 4s 671ms/step - loss: 1.1291 - accuracy: 1.0000 - val_loss: 1.9560 - val_accuracy: 0.4375\n",
            "Epoch 59/70\n",
            "6/6 [==============================] - 4s 631ms/step - loss: 1.1086 - accuracy: 1.0000 - val_loss: 1.9539 - val_accuracy: 0.4375\n",
            "Epoch 60/70\n",
            "6/6 [==============================] - 4s 626ms/step - loss: 1.1052 - accuracy: 1.0000 - val_loss: 1.9496 - val_accuracy: 0.4375\n",
            "Epoch 61/70\n",
            "6/6 [==============================] - 4s 611ms/step - loss: 1.0866 - accuracy: 1.0000 - val_loss: 1.9488 - val_accuracy: 0.4375\n",
            "Epoch 62/70\n",
            "6/6 [==============================] - 4s 672ms/step - loss: 1.1001 - accuracy: 1.0000 - val_loss: 1.9459 - val_accuracy: 0.4375\n",
            "Epoch 63/70\n",
            "6/6 [==============================] - 4s 612ms/step - loss: 1.0830 - accuracy: 1.0000 - val_loss: 1.9433 - val_accuracy: 0.4375\n",
            "Epoch 64/70\n",
            "6/6 [==============================] - 4s 621ms/step - loss: 1.0716 - accuracy: 1.0000 - val_loss: 1.9477 - val_accuracy: 0.4375\n",
            "Epoch 65/70\n",
            "6/6 [==============================] - 4s 613ms/step - loss: 1.0643 - accuracy: 1.0000 - val_loss: 1.9481 - val_accuracy: 0.4375\n",
            "Epoch 66/70\n",
            "6/6 [==============================] - 4s 623ms/step - loss: 1.0706 - accuracy: 1.0000 - val_loss: 1.9498 - val_accuracy: 0.4375\n",
            "Epoch 67/70\n",
            "6/6 [==============================] - 4s 624ms/step - loss: 1.0640 - accuracy: 1.0000 - val_loss: 1.9421 - val_accuracy: 0.4375\n",
            "Epoch 68/70\n",
            "6/6 [==============================] - 4s 622ms/step - loss: 1.0432 - accuracy: 1.0000 - val_loss: 1.9386 - val_accuracy: 0.4375\n",
            "Epoch 69/70\n",
            "6/6 [==============================] - 4s 623ms/step - loss: 1.0504 - accuracy: 1.0000 - val_loss: 1.9374 - val_accuracy: 0.4375\n",
            "Epoch 70/70\n",
            "6/6 [==============================] - 4s 623ms/step - loss: 1.0597 - accuracy: 1.0000 - val_loss: 1.9388 - val_accuracy: 0.4375\n"
          ],
          "name": "stdout"
        }
      ]
    },
    {
      "cell_type": "code",
      "metadata": {
        "id": "alfmWAfkkBkf",
        "colab_type": "code",
        "colab": {
          "base_uri": "https://localhost:8080/",
          "height": 567
        },
        "outputId": "f738776f-a424-4aee-cd50-51329fa6b249"
      },
      "source": [
        "plt.figure()\n",
        "plt.ylabel(\"Loss (training and validation)\")\n",
        "plt.xlabel(\"Training Steps\")\n",
        "plt.ylim([0,2])\n",
        "plt.plot(hist[\"loss\"])\n",
        "plt.plot(hist[\"val_loss\"])\n",
        "\n",
        "plt.figure()\n",
        "plt.ylabel(\"Accuracy (training and validation)\")\n",
        "plt.xlabel(\"Training Steps\")\n",
        "plt.ylim([0,1])\n",
        "plt.plot(hist[\"accuracy\"])\n",
        "plt.plot(hist[\"val_accuracy\"])"
      ],
      "execution_count": 27,
      "outputs": [
        {
          "output_type": "execute_result",
          "data": {
            "text/plain": [
              "[<matplotlib.lines.Line2D at 0x7fb0088467f0>]"
            ]
          },
          "metadata": {
            "tags": []
          },
          "execution_count": 27
        },
        {
          "output_type": "display_data",
          "data": {
            "image/png": "[encoded data removed]",
            "text/plain": [
              "<Figure size 432x288 with 1 Axes>"
            ]
          },
          "metadata": {
            "tags": []
          }
        },
        {
          "output_type": "display_data",
          "data": {
            "image/png": "[encoded data removed]",
            "text/plain": [
              "<Figure size 432x288 with 1 Axes>"
            ]
          },
          "metadata": {
            "tags": []
          }
        }
      ]
    },
    {
      "cell_type": "code",
      "metadata": {
        "id": "E-YYtRU1kIW3",
        "colab_type": "code",
        "colab": {
          "base_uri": "https://localhost:8080/",
          "height": 53
        },
        "outputId": "416410ca-0022-42d7-daa6-e7815415797e"
      },
      "source": [
        "saved_model_path = \"/content/drive/My Drive/myMerPy2/model1\"\n",
        "tf.saved_model.save(model, saved_model_path)"
      ],
      "execution_count": 28,
      "outputs": [
        {
          "output_type": "stream",
          "text": [
            "INFO:tensorflow:Assets written to: /content/drive/My Drive/myMerPy2/model1/assets\n"
          ],
          "name": "stdout"
        },
        {
          "output_type": "stream",
          "text": [
            "INFO:tensorflow:Assets written to: /content/drive/My Drive/myMerPy2/model1/assets\n"
          ],
          "name": "stderr"
        }
      ]
    },
    {
      "cell_type": "markdown",
      "metadata": {
        "id": "3grcUcsukXHK",
        "colab_type": "text"
      },
      "source": [
        "Optional: Deployment to TensorFlow Lite\n",
        "TensorFlow Lite lets you deploy TensorFlow models to mobile and IoT devices. The code below shows how to convert the trained model to TF Lite and apply post-training tools from the TensorFlow Model Optimization Toolkit. Finally, it runs it in the TF Lite Interpreter to examine the resulting quality\n",
        "\n",
        "Converting without optimization provides the same results as before (up to roundoff error).\n",
        "Converting with optimization without any data quantizes the model weights to 8 bits, but inference still uses floating-point computation for the neural network activations. This reduces model size almost by a factor of 4 and improves CPU latency on mobile devices.\n",
        "On top, computation of the neural network activations can be quantized to 8-bit integers as well if a small reference dataset is provided to calibrate the quantization range. On a mobile device, this accelerates inference further and makes it possible to run on accelerators like EdgeTPU."
      ]
    },
    {
      "cell_type": "code",
      "metadata": {
        "id": "jAmIKHavkYH3",
        "colab_type": "code",
        "colab": {
          "base_uri": "https://localhost:8080/",
          "height": 35
        },
        "outputId": "51957245-1178-4743-fa53-62430f9320c9"
      },
      "source": [
        "#@title Optimization settings\n",
        "optimize_lite_model = False  #@param {type:\"boolean\"}\n",
        "#@markdown Setting a value greater than zero enables quantization of neural network activations. A few dozen is already a useful amount.\n",
        "num_calibration_examples = 60  #@param {type:\"slider\", min:0, max:1000, step:1}\n",
        "representative_dataset = None\n",
        "if optimize_lite_model and num_calibration_examples:\n",
        "  # Use a bounded number of training examples without labels for calibration.\n",
        "  # TFLiteConverter expects a list of input tensors, each with batch size 1.\n",
        "  representative_dataset = lambda: itertools.islice(\n",
        "      ([image[None, ...]] for batch, _ in train_generator for image in batch),\n",
        "      num_calibration_examples)\n",
        "\n",
        "converter = tf.lite.TFLiteConverter.from_saved_model(saved_model_path)\n",
        "if optimize_lite_model:\n",
        "  converter.optimizations = [tf.lite.Optimize.DEFAULT]\n",
        "  if representative_dataset:  # This is optional, see above.\n",
        "    converter.representative_dataset = representative_dataset\n",
        "lite_model_content = converter.convert()\n",
        "\n",
        "# with open(\"/tmp/lite_flowers_model\", \"wb\") as f:\n",
        "with open(\"/content/drive/My Drive/myMerPy2/model1/saved_model\", \"wb\") as f:\n",
        "  f.write(lite_model_content)\n",
        "print(\"Wrote %sTFLite model of %d bytes.\" %\n",
        "      (\"optimized \" if optimize_lite_model else \"\", len(lite_model_content)))"
      ],
      "execution_count": 30,
      "outputs": [
        {
          "output_type": "stream",
          "text": [
            "Wrote TFLite model of 217390496 bytes.\n"
          ],
          "name": "stdout"
        }
      ]
    },
    {
      "cell_type": "code",
      "metadata": {
        "id": "Irbdnfjrk4qU",
        "colab_type": "code",
        "colab": {}
      },
      "source": [
        "interpreter = tf.lite.Interpreter(model_content=lite_model_content)\n",
        "# This little helper wraps the TF Lite interpreter as a numpy-to-numpy function.\n",
        "def lite_model(images):\n",
        "  interpreter.allocate_tensors()\n",
        "  interpreter.set_tensor(interpreter.get_input_details()[0]['index'], images)\n",
        "  interpreter.invoke()\n",
        "  return interpreter.get_tensor(interpreter.get_output_details()[0]['index'])"
      ],
      "execution_count": 0,
      "outputs": []
    },
    {
      "cell_type": "code",
      "metadata": {
        "id": "_fHDoIcRk75r",
        "colab_type": "code",
        "colab": {
          "base_uri": "https://localhost:8080/",
          "height": 53
        },
        "outputId": "4a3f5eaf-42f8-4d94-8e7e-92f0505c903a"
      },
      "source": [
        "#@markdown For rapid experimentation, start with a moderate number of examples.\n",
        "num_eval_examples = 50  #@param {type:\"slider\", min:0, max:700}\n",
        "eval_dataset = ((image, label)  # TFLite expects batch size 1.\n",
        "                for batch in train_generator\n",
        "                for (image, label) in zip(*batch))\n",
        "count = 0\n",
        "count_lite_tf_agree = 0\n",
        "count_lite_correct = 0\n",
        "for image, label in eval_dataset:\n",
        "  probs_lite = lite_model(image[None, ...])[0]\n",
        "  probs_tf = model(image[None, ...]).numpy()[0]\n",
        "  y_lite = np.argmax(probs_lite)\n",
        "  y_tf = np.argmax(probs_tf)\n",
        "  y_true = np.argmax(label)\n",
        "  count +=1\n",
        "  if y_lite == y_tf: count_lite_tf_agree += 1\n",
        "  if y_lite == y_true: count_lite_correct += 1\n",
        "  if count >= num_eval_examples: break\n",
        "print(\"TF Lite model agrees with original model on %d of %d examples (%g%%).\" %\n",
        "      (count_lite_tf_agree, count, 100.0 * count_lite_tf_agree / count))\n",
        "print(\"TF Lite model is accurate on %d of %d examples (%g%%).\" %\n",
        "      (count_lite_correct, count, 100.0 * count_lite_correct / count))"
      ],
      "execution_count": 32,
      "outputs": [
        {
          "output_type": "stream",
          "text": [
            "TF Lite model agrees with original model on 50 of 50 examples (100%).\n",
            "TF Lite model is accurate on 43 of 50 examples (86%).\n"
          ],
          "name": "stdout"
        }
      ]
    }
  ]
}